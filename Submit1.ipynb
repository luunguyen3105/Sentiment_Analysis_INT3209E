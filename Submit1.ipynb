{
  "nbformat": 4,
  "nbformat_minor": 0,
  "metadata": {
    "colab": {
      "name": "Submit1.ipynb",
      "provenance": [],
      "collapsed_sections": [],
      "mount_file_id": "11HG3BuUUom8-lrjnV8XjasJTNvrgwcYG",
      "authorship_tag": "ABX9TyM+YkPAs0+oKRpyHd6dfaWG",
      "include_colab_link": true
    },
    "kernelspec": {
      "name": "python3",
      "display_name": "Python 3"
    },
    "language_info": {
      "name": "python"
    }
  },
  "cells": [
    {
      "cell_type": "markdown",
      "metadata": {
        "id": "view-in-github",
        "colab_type": "text"
      },
      "source": [
        "<a href=\"https://colab.research.google.com/github/luunguyen3105/Sentiment_Analysis_INT3209E/blob/main/Submit1.ipynb\" target=\"_parent\"><img src=\"https://colab.research.google.com/assets/colab-badge.svg\" alt=\"Open In Colab\"/></a>"
      ]
    },
    {
      "cell_type": "code",
      "metadata": {
        "colab": {
          "base_uri": "https://localhost:8080/"
        },
        "id": "CoIx5u0THAnL",
        "outputId": "771c8adf-c62c-44b0-ff17-1b00b3f653d1"
      },
      "source": [
        "pip install pyvi\n"
      ],
      "execution_count": 2,
      "outputs": [
        {
          "output_type": "stream",
          "name": "stdout",
          "text": [
            "Collecting pyvi\n",
            "  Downloading pyvi-0.1.1-py2.py3-none-any.whl (8.5 MB)\n",
            "\u001b[K     |████████████████████████████████| 8.5 MB 26.4 MB/s \n",
            "\u001b[?25hRequirement already satisfied: scikit-learn in /usr/local/lib/python3.7/dist-packages (from pyvi) (1.0.1)\n",
            "Collecting sklearn-crfsuite\n",
            "  Downloading sklearn_crfsuite-0.3.6-py2.py3-none-any.whl (12 kB)\n",
            "Requirement already satisfied: threadpoolctl>=2.0.0 in /usr/local/lib/python3.7/dist-packages (from scikit-learn->pyvi) (3.0.0)\n",
            "Requirement already satisfied: scipy>=1.1.0 in /usr/local/lib/python3.7/dist-packages (from scikit-learn->pyvi) (1.4.1)\n",
            "Requirement already satisfied: numpy>=1.14.6 in /usr/local/lib/python3.7/dist-packages (from scikit-learn->pyvi) (1.19.5)\n",
            "Requirement already satisfied: joblib>=0.11 in /usr/local/lib/python3.7/dist-packages (from scikit-learn->pyvi) (1.1.0)\n",
            "Collecting python-crfsuite>=0.8.3\n",
            "  Downloading python_crfsuite-0.9.7-cp37-cp37m-manylinux1_x86_64.whl (743 kB)\n",
            "\u001b[K     |████████████████████████████████| 743 kB 61.3 MB/s \n",
            "\u001b[?25hRequirement already satisfied: tqdm>=2.0 in /usr/local/lib/python3.7/dist-packages (from sklearn-crfsuite->pyvi) (4.62.3)\n",
            "Requirement already satisfied: six in /usr/local/lib/python3.7/dist-packages (from sklearn-crfsuite->pyvi) (1.15.0)\n",
            "Requirement already satisfied: tabulate in /usr/local/lib/python3.7/dist-packages (from sklearn-crfsuite->pyvi) (0.8.9)\n",
            "Installing collected packages: python-crfsuite, sklearn-crfsuite, pyvi\n",
            "Successfully installed python-crfsuite-0.9.7 pyvi-0.1.1 sklearn-crfsuite-0.3.6\n"
          ]
        }
      ]
    },
    {
      "cell_type": "code",
      "metadata": {
        "id": "Plcy2iGnI-UU"
      },
      "source": [
        "import numpy as np\n",
        "import pandas as pd\n",
        "import tensorflow as tf\n",
        "import pickle\n",
        "import matplotlib.pyplot as plt\n",
        "from sklearn.model_selection import train_test_split\n",
        "from tensorflow.keras.layers import Embedding, Dense, Dropout, Bidirectional, LSTM, GRU, Input, GlobalMaxPool1D, LayerNormalization, Concatenate, Conv1D, MaxPooling1D\n",
        "from tensorflow.keras.optimizers import  Adam, SGD\n",
        "from tensorflow.keras import Sequential, preprocessing, callbacks\n",
        "from tensorflow.keras.models import load_model\n",
        "from tensorflow.keras.preprocessing.text import Tokenizer\n",
        "from tensorflow.keras.preprocessing.sequence import pad_sequences\n",
        "from pyvi import ViTokenizer\n",
        "from pyvi import ViUtils\n",
        "from tensorflow.keras.callbacks import ModelCheckpoint\n",
        "import seaborn as sns"
      ],
      "execution_count": 3,
      "outputs": []
    },
    {
      "cell_type": "code",
      "metadata": {
        "id": "R3YuWPzRHKT6"
      },
      "source": [
        "callback_model = tf.keras.callbacks.ModelCheckpoint('model_cnn_bilstm.h5', monitor='val_loss')"
      ],
      "execution_count": null,
      "outputs": []
    },
    {
      "cell_type": "code",
      "metadata": {
        "colab": {
          "base_uri": "https://localhost:8080/",
          "height": 423
        },
        "id": "Qiy1lqhZHsPM",
        "outputId": "d72cd093-3a55-4256-db2c-5252a2c3dcfe"
      },
      "source": [
        "df = pd.read_csv('/content/mycsvfile.csv')\n",
        "df"
      ],
      "execution_count": 5,
      "outputs": [
        {
          "output_type": "execute_result",
          "data": {
            "text/html": [
              "<div>\n",
              "<style scoped>\n",
              "    .dataframe tbody tr th:only-of-type {\n",
              "        vertical-align: middle;\n",
              "    }\n",
              "\n",
              "    .dataframe tbody tr th {\n",
              "        vertical-align: top;\n",
              "    }\n",
              "\n",
              "    .dataframe thead th {\n",
              "        text-align: right;\n",
              "    }\n",
              "</style>\n",
              "<table border=\"1\" class=\"dataframe\">\n",
              "  <thead>\n",
              "    <tr style=\"text-align: right;\">\n",
              "      <th></th>\n",
              "      <th>sentence</th>\n",
              "      <th>label</th>\n",
              "    </tr>\n",
              "  </thead>\n",
              "  <tbody>\n",
              "    <tr>\n",
              "      <th>0</th>\n",
              "      <td>Good ratio price/service. Good advices for the...</td>\n",
              "      <td>__label__tot</td>\n",
              "    </tr>\n",
              "    <tr>\n",
              "      <th>1</th>\n",
              "      <td>Trang thiết bị vệ sinh hơi cũ. Vệ sinh sạch sẽ...</td>\n",
              "      <td>__label__trung_binh</td>\n",
              "    </tr>\n",
              "    <tr>\n",
              "      <th>2</th>\n",
              "      <td>Friendly staff. Helpful for booking tours. Roo...</td>\n",
              "      <td>__label__xuat_sac</td>\n",
              "    </tr>\n",
              "    <tr>\n",
              "      <th>3</th>\n",
              "      <td>Quá ồn ào . Thất vọng</td>\n",
              "      <td>__label__kem</td>\n",
              "    </tr>\n",
              "    <tr>\n",
              "      <th>4</th>\n",
              "      <td>Nice place to be to get around Staff really ta...</td>\n",
              "      <td>__label__tot</td>\n",
              "    </tr>\n",
              "    <tr>\n",
              "      <th>...</th>\n",
              "      <td>...</td>\n",
              "      <td>...</td>\n",
              "    </tr>\n",
              "    <tr>\n",
              "      <th>22994</th>\n",
              "      <td>Bãi tắm cách khách sạn Green World Nha Trang, ...</td>\n",
              "      <td>__label__tot</td>\n",
              "    </tr>\n",
              "    <tr>\n",
              "      <th>22995</th>\n",
              "      <td>Khách sạn phục vụ khá tốt, chỉ có vấn đề nhận ...</td>\n",
              "      <td>__label__tot</td>\n",
              "    </tr>\n",
              "    <tr>\n",
              "      <th>22996</th>\n",
              "      <td>Cám ơn Dịch vụ Chudu24 và bạn Nga nhiều nhé.Gi...</td>\n",
              "      <td>__label__tot</td>\n",
              "    </tr>\n",
              "    <tr>\n",
              "      <th>22997</th>\n",
              "      <td>Khách sạn mới, đẹp, phòng sạch sẽ.nhân viên th...</td>\n",
              "      <td>__label__tot</td>\n",
              "    </tr>\n",
              "    <tr>\n",
              "      <th>22998</th>\n",
              "      <td>Khách sạn này mới khai trương nên nội thất rất...</td>\n",
              "      <td>__label__trung_binh</td>\n",
              "    </tr>\n",
              "  </tbody>\n",
              "</table>\n",
              "<p>22999 rows × 2 columns</p>\n",
              "</div>"
            ],
            "text/plain": [
              "                                                sentence                label\n",
              "0      Good ratio price/service. Good advices for the...         __label__tot\n",
              "1      Trang thiết bị vệ sinh hơi cũ. Vệ sinh sạch sẽ...  __label__trung_binh\n",
              "2      Friendly staff. Helpful for booking tours. Roo...    __label__xuat_sac\n",
              "3                                  Quá ồn ào . Thất vọng         __label__kem\n",
              "4      Nice place to be to get around Staff really ta...         __label__tot\n",
              "...                                                  ...                  ...\n",
              "22994  Bãi tắm cách khách sạn Green World Nha Trang, ...         __label__tot\n",
              "22995  Khách sạn phục vụ khá tốt, chỉ có vấn đề nhận ...         __label__tot\n",
              "22996  Cám ơn Dịch vụ Chudu24 và bạn Nga nhiều nhé.Gi...         __label__tot\n",
              "22997  Khách sạn mới, đẹp, phòng sạch sẽ.nhân viên th...         __label__tot\n",
              "22998  Khách sạn này mới khai trương nên nội thất rất...  __label__trung_binh\n",
              "\n",
              "[22999 rows x 2 columns]"
            ]
          },
          "metadata": {},
          "execution_count": 5
        }
      ]
    },
    {
      "cell_type": "code",
      "metadata": {
        "colab": {
          "base_uri": "https://localhost:8080/",
          "height": 335
        },
        "id": "T16yn1wTHx0N",
        "outputId": "2571d09b-944e-4bdc-99a4-ab16306e0a87"
      },
      "source": [
        "def to_sentiment(label):\n",
        "  rating = str(label)\n",
        "  if rating == '__label__xuat_sac': \n",
        "    return 4\n",
        "  elif rating == '__label__tot':\n",
        "    return 3\n",
        "  elif rating == '__label__trung_binh':\n",
        "    return 2\n",
        "  elif rating == '__label__kem':\n",
        "    return 1\n",
        "  elif rating == '__label__rat_kem':\n",
        "    return 0\n",
        "\n",
        "df['sentiment'] = df.label.apply(to_sentiment)\n",
        "class_names = ['Rất kém', 'Kém', 'Trung bình', 'Tốt', \"Xuất sắc\"]\n",
        "ax = sns.countplot(df.sentiment)\n",
        "plt.xlabel('review sentiment')\n",
        "ax.set_xticklabels(class_names);"
      ],
      "execution_count": 6,
      "outputs": [
        {
          "output_type": "stream",
          "name": "stderr",
          "text": [
            "/usr/local/lib/python3.7/dist-packages/seaborn/_decorators.py:43: FutureWarning: Pass the following variable as a keyword arg: x. From version 0.12, the only valid positional argument will be `data`, and passing other arguments without an explicit keyword will result in an error or misinterpretation.\n",
            "  FutureWarning\n"
          ]
        },
        {
          "output_type": "display_data",
          "data": {
            "image/png": "[encoded data removed]",
            "text/plain": [
              "<Figure size 432x288 with 1 Axes>"
            ]
          },
          "metadata": {
            "needs_background": "light"
          }
        }
      ]
    },
    {
      "cell_type": "code",
      "metadata": {
        "id": "m4qNTSAOIx2z"
      },
      "source": [
        "input_data = df['sentence'].values\n",
        "input_label = df['label'].values\n",
        "\n",
        "input_pre = []\n",
        "label_with_accent = []\n",
        "for idx, dt in enumerate(input_data):\n",
        "  input_text_pre = list(tf.keras.preprocessing.text.text_to_word_sequence(dt))\n",
        "  input_text_pre = \" \".join(input_text_pre)\n",
        "  input_text_pre_accent = ViTokenizer.tokenize(input_text_pre)\n",
        "  input_text_pre_no_accent = str(ViUtils.remove_accents(input_text_pre).decode(\"utf-8\"))\n",
        "  input_text_pre_no_accent = ViTokenizer.tokenize(input_text_pre_no_accent)\n",
        "  input_pre.append(input_text_pre_accent)\n",
        "  input_pre.append(input_text_pre_no_accent)\n",
        "  label_with_accent.append(input_label[idx])\n",
        "  label_with_accent.append(input_label[idx])"
      ],
      "execution_count": 7,
      "outputs": []
    },
    {
      "cell_type": "code",
      "metadata": {
        "id": "-hX1Up9SuSaF"
      },
      "source": [
        "input_pre\n"
      ],
      "execution_count": null,
      "outputs": []
    },
    {
      "cell_type": "code",
      "metadata": {
        "id": "dwceCyYOJCnZ"
      },
      "source": [
        "label_dict = {\n",
        "    '__label__xuat_sac': 4,\n",
        "    '__label__tot': 3,\n",
        "    '__label__trung_binh': 2,\n",
        "    '__label__kem': 1,\n",
        "    '__label__rat_kem': 0\n",
        "\n",
        "}"
      ],
      "execution_count": 11,
      "outputs": []
    },
    {
      "cell_type": "code",
      "metadata": {
        "colab": {
          "base_uri": "https://localhost:8080/",
          "height": 1000
        },
        "id": "sQXaBZMoJNiq",
        "outputId": "f7bd2841-01d8-45bb-cc6b-8b7729d52ce3"
      },
      "source": [
        "seq_len = [len(i.split()) for i in input_pre[0:10000]]\n",
        "pd.Series(seq_len).hist(bins = 10)\n",
        "plt.show()\n",
        "\n",
        "seq_len = [len(i.split()) for i in input_pre[10000:20000]]\n",
        "pd.Series(seq_len).hist(bins = 10)\n",
        "plt.show()\n",
        "\n",
        "seq_len = [len(i.split()) for i in input_pre[20000:30000]]\n",
        "pd.Series(seq_len).hist(bins = 10)\n",
        "plt.show()\n",
        "\n",
        "seq_len = [len(i.split()) for i in input_pre[30000:40000]]\n",
        "pd.Series(seq_len).hist(bins = 10)\n",
        "plt.show()\n",
        "\n",
        "seq_len = [len(i.split()) for i in input_pre[40000:50000]]\n",
        "pd.Series(seq_len).hist(bins = 10)\n",
        "plt.show()"
      ],
      "execution_count": 12,
      "outputs": [
        {
          "output_type": "display_data",
          "data": {
            "image/png": "[encoded data removed]",
            "text/plain": [
              "<Figure size 432x288 with 1 Axes>"
            ]
          },
          "metadata": {
            "needs_background": "light"
          }
        },
        {
          "output_type": "display_data",
          "data": {
            "image/png": "[encoded data removed]",
            "text/plain": [
              "<Figure size 432x288 with 1 Axes>"
            ]
          },
          "metadata": {
            "needs_background": "light"
          }
        },
        {
          "output_type": "display_data",
          "data": {
            "image/png": "[encoded data removed]",
            "text/plain": [
              "<Figure size 432x288 with 1 Axes>"
            ]
          },
          "metadata": {
            "needs_background": "light"
          }
        },
        {
          "output_type": "display_data",
          "data": {
            "image/png": "[encoded data removed]",
            "text/plain": [
              "<Figure size 432x288 with 1 Axes>"
            ]
          },
          "metadata": {
            "needs_background": "light"
          }
        },
        {
          "output_type": "display_data",
          "data": {
            "image/png": "[encoded data removed]",
            "text/plain": [
              "<Figure size 432x288 with 1 Axes>"
            ]
          },
          "metadata": {
            "needs_background": "light"
          }
        }
      ]
    },
    {
      "cell_type": "markdown",
      "metadata": {
        "id": "CJu-Itk9JmBo"
      },
      "source": [
        "Dựa vào bảng thống kê số liệu, ta lựa chọn max_len = 512"
      ]
    },
    {
      "cell_type": "code",
      "metadata": {
        "id": "TIb2BE5eJVfw"
      },
      "source": [
        "label_idx = [label_dict[i] for i in label_with_accent]\n",
        "label_tf = tf.keras.utils.to_categorical(label_idx, num_classes=5, dtype='float32')"
      ],
      "execution_count": 17,
      "outputs": []
    },
    {
      "cell_type": "code",
      "metadata": {
        "colab": {
          "base_uri": "https://localhost:8080/"
        },
        "id": "pG4MFYu-4APp",
        "outputId": "d1a5fa1f-d7c0-4ab8-eadf-f1c0729b68b6"
      },
      "source": [
        "label_tf"
      ],
      "execution_count": 18,
      "outputs": [
        {
          "output_type": "execute_result",
          "data": {
            "text/plain": [
              "array([[0., 0., 0., 1., 0.],\n",
              "       [0., 0., 0., 1., 0.],\n",
              "       [0., 0., 1., 0., 0.],\n",
              "       ...,\n",
              "       [0., 0., 0., 1., 0.],\n",
              "       [0., 0., 1., 0., 0.],\n",
              "       [0., 0., 1., 0., 0.]], dtype=float32)"
            ]
          },
          "metadata": {},
          "execution_count": 18
        }
      ]
    },
    {
      "cell_type": "code",
      "metadata": {
        "id": "HZivGoEwJe2Z"
      },
      "source": [
        "tokenizer_data = Tokenizer(oov_token='<OOV>', filters='', split=' ')\n",
        "tokenizer_data.fit_on_texts(input_pre)"
      ],
      "execution_count": 19,
      "outputs": []
    },
    {
      "cell_type": "code",
      "metadata": {
        "id": "DyQAShfGJhGh"
      },
      "source": [
        "tokenizer_data_text = tokenizer_data.texts_to_sequences(input_pre)\n",
        "vec_data = pad_sequences(tokenizer_data_text, padding='post', maxlen = 512)"
      ],
      "execution_count": null,
      "outputs": []
    },
    {
      "cell_type": "code",
      "metadata": {
        "colab": {
          "base_uri": "https://localhost:8080/"
        },
        "id": "MSCWx7qBJuSy",
        "outputId": "25df82ee-7ce2-4913-d3ce-eb9b69b49d59"
      },
      "source": [
        "vec_data\n"
      ],
      "execution_count": null,
      "outputs": [
        {
          "output_type": "execute_result",
          "data": {
            "text/plain": [
              "array([[ 178, 6710,  703, ...,    0,    0,    0],\n",
              "       [ 178, 6710,  703, ...,    0,    0,    0],\n",
              "       [ 128,  536,  523, ...,    0,    0,    0],\n",
              "       ...,\n",
              "       [   2,    3,   93, ...,    0,    0,    0],\n",
              "       [   7,  160,  237, ...,    0,    0,    0],\n",
              "       [   2,    3,  107, ...,    0,    0,    0]], dtype=int32)"
            ]
          },
          "metadata": {},
          "execution_count": 21
        }
      ]
    },
    {
      "cell_type": "code",
      "metadata": {
        "id": "GwAMqH8mK8dh"
      },
      "source": [
        "pickle.dump(tokenizer_data, open(\"tokenizer_data.pkl\", \"wb\"))"
      ],
      "execution_count": null,
      "outputs": []
    },
    {
      "cell_type": "code",
      "metadata": {
        "colab": {
          "base_uri": "https://localhost:8080/"
        },
        "id": "UnOLeQAGK_mN",
        "outputId": "37a3d0e4-cfea-46c9-e7ae-02bbd63a948c"
      },
      "source": [
        "print(\"input data.shape: \", vec_data.shape)\n",
        "data_vocab_size = len(tokenizer_data.word_index) + 1\n",
        "print(\"data_vocab_size: \", data_vocab_size)"
      ],
      "execution_count": null,
      "outputs": [
        {
          "output_type": "stream",
          "name": "stdout",
          "text": [
            "input data.shape:  (45998, 512)\n",
            "data_vocab_size:  40548\n"
          ]
        }
      ]
    },
    {
      "cell_type": "code",
      "metadata": {
        "colab": {
          "base_uri": "https://localhost:8080/"
        },
        "id": "-YMSGEXyLBAy",
        "outputId": "c1fdcaa9-d363-414c-aa69-cccf0849fd1a"
      },
      "source": [
        "X_train, X_val, y_train, y_val = train_test_split(vec_data, label_tf, test_size = 0.2, random_state=42)\n",
        "X_train, X_test, y_train, y_test = train_test_split(X_train, y_train, test_size = 0.1, random_state=42)\n",
        "print(\"training sample: \", len(X_train))\n",
        "print(\"validation sample: \", len(X_val))\n",
        "print(\"test sample: \", len(X_test))"
      ],
      "execution_count": null,
      "outputs": [
        {
          "output_type": "stream",
          "name": "stdout",
          "text": [
            "training sample:  33118\n",
            "validation sample:  9200\n",
            "test sample:  3680\n"
          ]
        }
      ]
    },
    {
      "cell_type": "code",
      "metadata": {
        "colab": {
          "base_uri": "https://localhost:8080/"
        },
        "id": "RbFDcwJhLEFS",
        "outputId": "4bfd0c5b-9cc6-449a-e716-43db7e583e5d"
      },
      "source": [
        "\n",
        "def generate_model():\n",
        "  dropout_threshold = 0.4\n",
        "  input_dim = data_vocab_size\n",
        "  output_dim = 32\n",
        "  input_length = 512\n",
        "  initializer = tf.keras.initializers.GlorotNormal()\n",
        "\n",
        "  input_layer = Input(shape=(input_length))\n",
        "  feature =  Embedding(\n",
        "      input_dim     = input_dim, \n",
        "      output_dim    = output_dim,\n",
        "      input_length  = input_length,\n",
        "      embeddings_initializer = 'GlorotNormal'\n",
        "  )(input_layer)\n",
        "  cnn_feature = Conv1D(filters=32, kernel_size= 3, padding = 'same', activation='relu')(feature)\n",
        "  cnn_feature = MaxPooling1D()(cnn_feature)\n",
        "  cnn_feature = Dropout(dropout_threshold)(cnn_feature)\n",
        "  cnn_feature = Conv1D(filters=32, kernel_size = 3, padding = 'same', activation='relu')(cnn_feature)\n",
        "  cnn_feature = MaxPooling1D()(cnn_feature)\n",
        "  cnn_feature = LayerNormalization()(cnn_feature)\n",
        "  cnn_feature = Dropout(dropout_threshold)(cnn_feature)\n",
        "\n",
        "  bi_lstm_feature = Bidirectional(LSTM(\n",
        "      units=32,\n",
        "      dropout=dropout_threshold,\n",
        "      return_sequences=True,\n",
        "      kernel_initializer=initializer\n",
        "      ), merge_mode = 'concat'\n",
        "  )(feature)\n",
        "  bi_lstm_feature = MaxPooling1D()(bi_lstm_feature)\n",
        "\n",
        "  bi_lstm_feature = Bidirectional(GRU(\n",
        "      units=32,\n",
        "      dropout=dropout_threshold,\n",
        "      return_sequences=True,\n",
        "      kernel_initializer=initializer\n",
        "      ), merge_mode = 'concat'\n",
        "  )(bi_lstm_feature)\n",
        "  bi_lstm_feature = MaxPooling1D()(bi_lstm_feature)\n",
        "  bi_lstm_feature = LayerNormalization()(bi_lstm_feature)\n",
        "\n",
        "  combine_feature = tf.keras.layers.Concatenate()([cnn_feature, bi_lstm_feature])\n",
        "  combine_feature = GlobalMaxPool1D()(combine_feature)\n",
        "  combine_feature = LayerNormalization()(combine_feature)\n",
        "\n",
        "  classifier = Dense(90, activation= 'relu')(combine_feature)\n",
        "  classifier = Dropout(0.2)(classifier)\n",
        "  classifier = Dense(70, activation= 'relu')(classifier)\n",
        "  classifier = Dropout(0.2)(classifier)\n",
        "  classifier = Dense(50, activation= 'relu')(classifier)\n",
        "  classifier = Dropout(0.2)(classifier)\n",
        "  classifier = Dense(30, activation= 'relu')(classifier)\n",
        "  classifier = Dropout(0.2)(classifier)\n",
        "  classifier = Dense(5, activation= 'softmax')(classifier)\n",
        "\n",
        "  model = tf.keras.Model(inputs = input_layer, outputs = classifier)\n",
        "  return model\n",
        "\n",
        "model = generate_model()\n",
        "adam = Adam(learning_rate = 0.001)\n",
        "model.compile(optimizer=adam, loss='categorical_crossentropy', metrics=['accuracy'])\n",
        "model.summary()\n"
      ],
      "execution_count": null,
      "outputs": [
        {
          "output_type": "stream",
          "name": "stdout",
          "text": [
            "Model: \"model\"\n",
            "__________________________________________________________________________________________________\n",
            " Layer (type)                   Output Shape         Param #     Connected to                     \n",
            "==================================================================================================\n",
            " input_1 (InputLayer)           [(None, 512)]        0           []                               \n",
            "                                                                                                  \n",
            " embedding (Embedding)          (None, 512, 32)      1297536     ['input_1[0][0]']                \n",
            "                                                                                                  \n",
            " conv1d (Conv1D)                (None, 512, 32)      3104        ['embedding[0][0]']              \n",
            "                                                                                                  \n",
            " max_pooling1d (MaxPooling1D)   (None, 256, 32)      0           ['conv1d[0][0]']                 \n",
            "                                                                                                  \n",
            " dropout (Dropout)              (None, 256, 32)      0           ['max_pooling1d[0][0]']          \n",
            "                                                                                                  \n",
            " bidirectional (Bidirectional)  (None, 512, 64)      16640       ['embedding[0][0]']              \n",
            "                                                                                                  \n",
            " conv1d_1 (Conv1D)              (None, 256, 32)      3104        ['dropout[0][0]']                \n",
            "                                                                                                  \n",
            " max_pooling1d_2 (MaxPooling1D)  (None, 256, 64)     0           ['bidirectional[0][0]']          \n",
            "                                                                                                  \n",
            " max_pooling1d_1 (MaxPooling1D)  (None, 128, 32)     0           ['conv1d_1[0][0]']               \n",
            "                                                                                                  \n",
            " bidirectional_1 (Bidirectional  (None, 256, 64)     18816       ['max_pooling1d_2[0][0]']        \n",
            " )                                                                                                \n",
            "                                                                                                  \n",
            " layer_normalization (LayerNorm  (None, 128, 32)     64          ['max_pooling1d_1[0][0]']        \n",
            " alization)                                                                                       \n",
            "                                                                                                  \n",
            " max_pooling1d_3 (MaxPooling1D)  (None, 128, 64)     0           ['bidirectional_1[0][0]']        \n",
            "                                                                                                  \n",
            " dropout_1 (Dropout)            (None, 128, 32)      0           ['layer_normalization[0][0]']    \n",
            "                                                                                                  \n",
            " layer_normalization_1 (LayerNo  (None, 128, 64)     128         ['max_pooling1d_3[0][0]']        \n",
            " rmalization)                                                                                     \n",
            "                                                                                                  \n",
            " concatenate (Concatenate)      (None, 128, 96)      0           ['dropout_1[0][0]',              \n",
            "                                                                  'layer_normalization_1[0][0]']  \n",
            "                                                                                                  \n",
            " global_max_pooling1d (GlobalMa  (None, 96)          0           ['concatenate[0][0]']            \n",
            " xPooling1D)                                                                                      \n",
            "                                                                                                  \n",
            " layer_normalization_2 (LayerNo  (None, 96)          192         ['global_max_pooling1d[0][0]']   \n",
            " rmalization)                                                                                     \n",
            "                                                                                                  \n",
            " dense (Dense)                  (None, 90)           8730        ['layer_normalization_2[0][0]']  \n",
            "                                                                                                  \n",
            " dropout_2 (Dropout)            (None, 90)           0           ['dense[0][0]']                  \n",
            "                                                                                                  \n",
            " dense_1 (Dense)                (None, 70)           6370        ['dropout_2[0][0]']              \n",
            "                                                                                                  \n",
            " dropout_3 (Dropout)            (None, 70)           0           ['dense_1[0][0]']                \n",
            "                                                                                                  \n",
            " dense_2 (Dense)                (None, 50)           3550        ['dropout_3[0][0]']              \n",
            "                                                                                                  \n",
            " dropout_4 (Dropout)            (None, 50)           0           ['dense_2[0][0]']                \n",
            "                                                                                                  \n",
            " dense_3 (Dense)                (None, 30)           1530        ['dropout_4[0][0]']              \n",
            "                                                                                                  \n",
            " dropout_5 (Dropout)            (None, 30)           0           ['dense_3[0][0]']                \n",
            "                                                                                                  \n",
            " dense_4 (Dense)                (None, 5)            155         ['dropout_5[0][0]']              \n",
            "                                                                                                  \n",
            "==================================================================================================\n",
            "Total params: 1,359,919\n",
            "Trainable params: 1,359,919\n",
            "Non-trainable params: 0\n",
            "__________________________________________________________________________________________________\n"
          ]
        }
      ]
    },
    {
      "cell_type": "code",
      "metadata": {
        "colab": {
          "base_uri": "https://localhost:8080/"
        },
        "id": "PfZNAoaRMoip",
        "outputId": "2798a7a8-676a-44cd-9ae8-5ec49e6aa0a8"
      },
      "source": [
        "history = model.fit(x = X_train, y = y_train, validation_data = (X_val, y_val), epochs=25, batch_size = 128, callbacks=[callback_model])"
      ],
      "execution_count": null,
      "outputs": [
        {
          "output_type": "stream",
          "name": "stdout",
          "text": [
            "Epoch 1/25\n",
            "259/259 [==============================] - 330s 1s/step - loss: 0.4065 - accuracy: 0.8423 - val_loss: 0.8601 - val_accuracy: 0.7064\n",
            "Epoch 2/25\n",
            "259/259 [==============================] - 329s 1s/step - loss: 0.3881 - accuracy: 0.8502 - val_loss: 0.8920 - val_accuracy: 0.7088\n",
            "Epoch 3/25\n",
            "259/259 [==============================] - 329s 1s/step - loss: 0.3689 - accuracy: 0.8571 - val_loss: 0.9786 - val_accuracy: 0.7096\n",
            "Epoch 4/25\n",
            "259/259 [==============================] - 329s 1s/step - loss: 0.3541 - accuracy: 0.8624 - val_loss: 1.0896 - val_accuracy: 0.7060\n",
            "Epoch 5/25\n",
            "259/259 [==============================] - 330s 1s/step - loss: 0.3408 - accuracy: 0.8675 - val_loss: 1.0388 - val_accuracy: 0.7014\n",
            "Epoch 6/25\n",
            "259/259 [==============================] - 329s 1s/step - loss: 0.3285 - accuracy: 0.8702 - val_loss: 1.1691 - val_accuracy: 0.7050\n",
            "Epoch 7/25\n",
            "259/259 [==============================] - 332s 1s/step - loss: 0.3196 - accuracy: 0.8748 - val_loss: 1.2333 - val_accuracy: 0.7060\n",
            "Epoch 8/25\n",
            "259/259 [==============================] - 331s 1s/step - loss: 0.3108 - accuracy: 0.8782 - val_loss: 1.1462 - val_accuracy: 0.7026\n",
            "Epoch 9/25\n",
            "259/259 [==============================] - 335s 1s/step - loss: 0.2968 - accuracy: 0.8843 - val_loss: 1.3488 - val_accuracy: 0.7007\n",
            "Epoch 10/25\n",
            "259/259 [==============================] - 333s 1s/step - loss: 0.2944 - accuracy: 0.8836 - val_loss: 1.2840 - val_accuracy: 0.6987\n",
            "Epoch 11/25\n",
            "259/259 [==============================] - 334s 1s/step - loss: 0.2838 - accuracy: 0.8866 - val_loss: 1.3395 - val_accuracy: 0.6987\n",
            "Epoch 12/25\n",
            "259/259 [==============================] - 335s 1s/step - loss: 0.2821 - accuracy: 0.8882 - val_loss: 1.3269 - val_accuracy: 0.7083\n",
            "Epoch 13/25\n",
            "259/259 [==============================] - 332s 1s/step - loss: 0.2733 - accuracy: 0.8918 - val_loss: 1.2881 - val_accuracy: 0.6996\n",
            "Epoch 14/25\n",
            "259/259 [==============================] - 331s 1s/step - loss: 0.2622 - accuracy: 0.8954 - val_loss: 1.3801 - val_accuracy: 0.6977\n",
            "Epoch 15/25\n",
            "259/259 [==============================] - 332s 1s/step - loss: 0.2596 - accuracy: 0.8947 - val_loss: 1.4398 - val_accuracy: 0.7077\n",
            "Epoch 16/25\n",
            "259/259 [==============================] - 331s 1s/step - loss: 0.2545 - accuracy: 0.8978 - val_loss: 1.3789 - val_accuracy: 0.7080\n",
            "Epoch 17/25\n",
            "259/259 [==============================] - 331s 1s/step - loss: 0.2482 - accuracy: 0.9020 - val_loss: 1.4815 - val_accuracy: 0.7084\n",
            "Epoch 18/25\n",
            "259/259 [==============================] - 331s 1s/step - loss: 0.2446 - accuracy: 0.9032 - val_loss: 1.5084 - val_accuracy: 0.6970\n",
            "Epoch 19/25\n",
            "259/259 [==============================] - 332s 1s/step - loss: 0.2413 - accuracy: 0.9035 - val_loss: 1.5462 - val_accuracy: 0.7052\n",
            "Epoch 20/25\n",
            "259/259 [==============================] - 332s 1s/step - loss: 0.2351 - accuracy: 0.9061 - val_loss: 1.4637 - val_accuracy: 0.6962\n",
            "Epoch 21/25\n",
            "259/259 [==============================] - 332s 1s/step - loss: 0.2286 - accuracy: 0.9093 - val_loss: 1.8755 - val_accuracy: 0.7074\n",
            "Epoch 22/25\n",
            "259/259 [==============================] - 331s 1s/step - loss: 0.2265 - accuracy: 0.9098 - val_loss: 1.5754 - val_accuracy: 0.7037\n",
            "Epoch 23/25\n",
            "259/259 [==============================] - 331s 1s/step - loss: 0.2278 - accuracy: 0.9094 - val_loss: 1.5625 - val_accuracy: 0.7026\n",
            "Epoch 24/25\n",
            "259/259 [==============================] - 331s 1s/step - loss: 0.2198 - accuracy: 0.9130 - val_loss: 1.7784 - val_accuracy: 0.7051\n",
            "Epoch 25/25\n",
            "259/259 [==============================] - 330s 1s/step - loss: 0.2210 - accuracy: 0.9111 - val_loss: 1.6870 - val_accuracy: 0.6932\n"
          ]
        }
      ]
    },
    {
      "cell_type": "code",
      "metadata": {
        "colab": {
          "base_uri": "https://localhost:8080/"
        },
        "id": "SwPdvgvI0qP-",
        "outputId": "b1377726-9e5c-40a5-c82a-4a6352308d15"
      },
      "source": [
        "model.load_weights(\"/content/sample_data/model_cnn_bilstm.h5\")\n",
        "model.evaluate(X_test, y_test)"
      ],
      "execution_count": null,
      "outputs": [
        {
          "output_type": "stream",
          "name": "stdout",
          "text": [
            "115/115 [==============================] - 16s 114ms/step - loss: 1.7201 - accuracy: 0.6886\n"
          ]
        },
        {
          "output_type": "execute_result",
          "data": {
            "text/plain": [
              "[1.7201188802719116, 0.688586950302124]"
            ]
          },
          "metadata": {},
          "execution_count": 28
        }
      ]
    },
    {
      "cell_type": "code",
      "metadata": {
        "colab": {
          "base_uri": "https://localhost:8080/"
        },
        "id": "bO9TqknMHhyt",
        "outputId": "22edfc0a-1771-4e0b-8cb8-1262d226560b"
      },
      "source": [
        "def preprocess_raw_input(raw_input, tokenizer):\n",
        "  input_text_pre = list(tf.keras.preprocessing.text.text_to_word_sequence(raw_input))\n",
        "  input_text_pre = \" \".join(input_text_pre)\n",
        "  input_text_pre_accent = ViTokenizer.tokenize(input_text_pre)\n",
        "  #print(\"Text_preprocessed:\", input_text_pre_accent)\n",
        "  tokenized_data_text = tokenizer.texts_to_sequences([input_text_pre_accent])\n",
        "  vec_data = pad_sequences(tokenized_data_text, padding='post',maxlen=512)\n",
        "  return vec_data\n",
        "\n",
        "def inference_model(input_feature, model):\n",
        "  output = model(input_feature).numpy()[0]\n",
        "  result = output.argmax()\n",
        "  conf = float(output.max())\n",
        "  label_dict = {'Rất kém': 0, 'Kém': 1, 'Trung bình': 2, 'Tốt': 3, 'Xuất sắc' : 4}\n",
        "  label = list(label_dict.keys())\n",
        "  return label[int(result)], conf \n",
        "\n",
        "def prediction(raw_input, tokenizer, model):\n",
        "  input_model = preprocess_raw_input(raw_input, tokenizer_data)\n",
        "  result, conf = inference_model(input_model, model)\n",
        "\n",
        "  return str(result), conf\n",
        "\n",
        "my_model = generate_model()\n",
        "my_model = load_model('/content/sample_data/model_cnn_bilstm.h5')\n",
        "\n",
        "with open(r\"tokenizer_data.pkl\",\"rb\") as input_file:\n",
        "  my_tokenizer = pickle.load(input_file)\n",
        "\n",
        "\n"
      ],
      "execution_count": null,
      "outputs": [
        {
          "output_type": "stream",
          "name": "stdout",
          "text": [
            "('Trung bình', 0.8083905577659607)\n"
          ]
        }
      ]
    },
    {
      "cell_type": "code",
      "metadata": {
        "id": "KT6J6-xB2XCj"
      },
      "source": [
        "print(prediction(\"Khách sạn tiêu chuẩn, nhưng phục vụ kém.Điểm hình tổ chức tiệc buffet đêm giao thừa,lượng người không quá đông, nhưng khâu chuẩn bị lủng củng, nhân viên chưa niềm nở với khách, thức ăn không được tươi ngon, phục vụ không đúng như thực đơn buffet ( nói tổng thể là khách sạn tiêu chuẩn phục vụ không chuẩn) . Phục vụ và ăn uống\", my_tokenizer,my_model))"
      ],
      "execution_count": null,
      "outputs": []
    },
    {
      "cell_type": "code",
      "metadata": {
        "id": "09T_JbFjbhLd"
      },
      "source": [
        "filename = '/content/test_end.txt'"
      ],
      "execution_count": null,
      "outputs": []
    },
    {
      "cell_type": "code",
      "metadata": {
        "id": "v3lDRUx-cN8N"
      },
      "source": [
        "with open(filename) as file:\n",
        "    lines = file.readlines()\n",
        "    lines = [line.rstrip() for line in lines]"
      ],
      "execution_count": null,
      "outputs": []
    },
    {
      "cell_type": "code",
      "metadata": {
        "id": "ZOEW1SEScjQ1"
      },
      "source": [
        "samples = []\n",
        "prediction_datas = []\n",
        "prediction_accs = []\n",
        "for line in lines:\n",
        "    sample = str(line)\n",
        "    prediction_data = prediction(str(line), my_tokenizer, my_model)[0]\n",
        "    samples.append(sample)\n",
        "    prediction_datas.append(prediction_data)\n",
        "    prediction_acc = prediction(sample, my_tokenizer, my_model)[1]\n",
        "    prediction_accs.append(prediction_acc)\n",
        "    #file['predicted_sentiment'] = file.prediction(sample, my_tokenizer, my_model)"
      ],
      "execution_count": null,
      "outputs": []
    },
    {
      "cell_type": "code",
      "metadata": {
        "id": "hTNKCQfxeDSe",
        "colab": {
          "base_uri": "https://localhost:8080/",
          "height": 423
        },
        "outputId": "21d2ccca-1ff4-4e5d-c9a5-3389bc564988"
      },
      "source": [
        "df_test = pd.DataFrame({'sample': samples, 'prediction': prediction_datas, 'accuracy': prediction_accs}) \n",
        "df_test\n"
      ],
      "execution_count": null,
      "outputs": [
        {
          "output_type": "execute_result",
          "data": {
            "text/html": [
              "<div>\n",
              "<style scoped>\n",
              "    .dataframe tbody tr th:only-of-type {\n",
              "        vertical-align: middle;\n",
              "    }\n",
              "\n",
              "    .dataframe tbody tr th {\n",
              "        vertical-align: top;\n",
              "    }\n",
              "\n",
              "    .dataframe thead th {\n",
              "        text-align: right;\n",
              "    }\n",
              "</style>\n",
              "<table border=\"1\" class=\"dataframe\">\n",
              "  <thead>\n",
              "    <tr style=\"text-align: right;\">\n",
              "      <th></th>\n",
              "      <th>sample</th>\n",
              "      <th>prediction</th>\n",
              "      <th>accuracy</th>\n",
              "    </tr>\n",
              "  </thead>\n",
              "  <tbody>\n",
              "    <tr>\n",
              "      <th>0</th>\n",
              "      <td>Great central position to old market area. Ver...</td>\n",
              "      <td>Xuất sắc</td>\n",
              "      <td>0.992331</td>\n",
              "    </tr>\n",
              "    <tr>\n",
              "      <th>1</th>\n",
              "      <td>Service..did it all. Helpful in everytging . T...</td>\n",
              "      <td>Xuất sắc</td>\n",
              "      <td>1.000000</td>\n",
              "    </tr>\n",
              "    <tr>\n",
              "      <th>2</th>\n",
              "      <td>Kiến trúc ở Tam Giang resort &amp; Spa sang trọng,...</td>\n",
              "      <td>Xuất sắc</td>\n",
              "      <td>0.999977</td>\n",
              "    </tr>\n",
              "    <tr>\n",
              "      <th>3</th>\n",
              "      <td>Sàn nhà ở khách sạn chưa được sạch sẽ lắm nhưn...</td>\n",
              "      <td>Tốt</td>\n",
              "      <td>0.780785</td>\n",
              "    </tr>\n",
              "    <tr>\n",
              "      <th>4</th>\n",
              "      <td>Khách sạn có phòng rất đẹp và sạch sẽ. Nhân vi...</td>\n",
              "      <td>Xuất sắc</td>\n",
              "      <td>0.840933</td>\n",
              "    </tr>\n",
              "    <tr>\n",
              "      <th>...</th>\n",
              "      <td>...</td>\n",
              "      <td>...</td>\n",
              "      <td>...</td>\n",
              "    </tr>\n",
              "    <tr>\n",
              "      <th>236</th>\n",
              "      <td>Khách sạn nằm sát biển, rất thuận lợi cho việc...</td>\n",
              "      <td>Tốt</td>\n",
              "      <td>0.680873</td>\n",
              "    </tr>\n",
              "    <tr>\n",
              "      <th>237</th>\n",
              "      <td>Khách sạn này có giá tương đối tốt. Phòng ốc l...</td>\n",
              "      <td>Tốt</td>\n",
              "      <td>0.999969</td>\n",
              "    </tr>\n",
              "    <tr>\n",
              "      <th>238</th>\n",
              "      <td>Một ngày nghỉ ở đây thật chán, nhân viên phục ...</td>\n",
              "      <td>Tốt</td>\n",
              "      <td>0.545667</td>\n",
              "    </tr>\n",
              "    <tr>\n",
              "      <th>239</th>\n",
              "      <td>Tôi đã đi nhiều nơi và nghỉ ở nhiều khách sạn ...</td>\n",
              "      <td>Xuất sắc</td>\n",
              "      <td>0.843763</td>\n",
              "    </tr>\n",
              "    <tr>\n",
              "      <th>240</th>\n",
              "      <td>Mình chỉ nghỉ 1 ngày tại khách sạn, mọi dịch v...</td>\n",
              "      <td>Tốt</td>\n",
              "      <td>0.948957</td>\n",
              "    </tr>\n",
              "  </tbody>\n",
              "</table>\n",
              "<p>241 rows × 3 columns</p>\n",
              "</div>"
            ],
            "text/plain": [
              "                                                sample prediction  accuracy\n",
              "0    Great central position to old market area. Ver...   Xuất sắc  0.992331\n",
              "1    Service..did it all. Helpful in everytging . T...   Xuất sắc  1.000000\n",
              "2    Kiến trúc ở Tam Giang resort & Spa sang trọng,...   Xuất sắc  0.999977\n",
              "3    Sàn nhà ở khách sạn chưa được sạch sẽ lắm nhưn...        Tốt  0.780785\n",
              "4    Khách sạn có phòng rất đẹp và sạch sẽ. Nhân vi...   Xuất sắc  0.840933\n",
              "..                                                 ...        ...       ...\n",
              "236  Khách sạn nằm sát biển, rất thuận lợi cho việc...        Tốt  0.680873\n",
              "237  Khách sạn này có giá tương đối tốt. Phòng ốc l...        Tốt  0.999969\n",
              "238  Một ngày nghỉ ở đây thật chán, nhân viên phục ...        Tốt  0.545667\n",
              "239  Tôi đã đi nhiều nơi và nghỉ ở nhiều khách sạn ...   Xuất sắc  0.843763\n",
              "240  Mình chỉ nghỉ 1 ngày tại khách sạn, mọi dịch v...        Tốt  0.948957\n",
              "\n",
              "[241 rows x 3 columns]"
            ]
          },
          "metadata": {},
          "execution_count": 87
        }
      ]
    },
    {
      "cell_type": "code",
      "metadata": {
        "id": "brBcIUDGyeK-"
      },
      "source": [
        "#df_test.to_csv('./myPredictfile26.csv',index=False)"
      ],
      "execution_count": null,
      "outputs": []
    },
    {
      "cell_type": "code",
      "metadata": {
        "id": "xWWjlJg9bCP-"
      },
      "source": [
        "while(True):\n",
        "  text = input()\n",
        "  if text == \"end\":\n",
        "    break\n",
        "  else:\n",
        "    print(prediction(text, my_tokenizer, my_model)[0]+\"\\n\") \n"
      ],
      "execution_count": null,
      "outputs": []
    },
    {
      "cell_type": "code",
      "metadata": {
        "id": "ueltCjEPhJav"
      },
      "source": [
        "samples = []\n",
        "for line in lines:\n",
        "    sample = str(line)\n",
        "    samples.append(sample)"
      ],
      "execution_count": null,
      "outputs": []
    },
    {
      "cell_type": "code",
      "metadata": {
        "id": "AQWbMdzQfAqV"
      },
      "source": [
        "df['prediction'] = df['sample'].apply(prediction(sample, my_tokenizer, my_model)[0])"
      ],
      "execution_count": null,
      "outputs": []
    }
  ]
}